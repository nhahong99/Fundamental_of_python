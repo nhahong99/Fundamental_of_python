{
 "cells": [
  {
   "cell_type": "markdown",
   "metadata": {},
   "source": [
    "Viết 1 chương trình cho nhập vào tên người dùng, nếu người dùng tên là 'hồng' thì xuất ra chuổi 'Mấy đứa tên Hồng hay ế'"
   ]
  },
  {
   "cell_type": "code",
   "execution_count": 1,
   "metadata": {},
   "outputs": [
    {
     "name": "stdin",
     "output_type": "stream",
     "text": [
      "Enter your name:  cường\n"
     ]
    },
    {
     "name": "stdout",
     "output_type": "stream",
     "text": [
      "Thường mấy đứa tên Cường rất đẹp trai\n",
      "Có chạy chổ này\n"
     ]
    }
   ],
   "source": [
    "name = input('Enter your name: ')\n",
    "\n",
    "if name.lower() == 'hồng':\n",
    "    print('Mấy đứa tên Hồng hay ế')\n",
    "    \n",
    "if name.lower() == 'cường':\n",
    "    print('Thường mấy đứa tên Cường rất đẹp trai')\n",
    "    \n",
    "print('Có chạy chổ này')"
   ]
  },
  {
   "cell_type": "code",
   "execution_count": 12,
   "metadata": {},
   "outputs": [
    {
     "name": "stdin",
     "output_type": "stream",
     "text": [
      "Bạn có ngừ iu chưa:  có\n"
     ]
    },
    {
     "name": "stdout",
     "output_type": "stream",
     "text": [
      "1. Nắm tay\n",
      "2. Hun\n",
      "3. Đi ăn\n"
     ]
    },
    {
     "name": "stdin",
     "output_type": "stream",
     "text": [
      "Đi khách sạn hôn:  đéo nhưng dc\n"
     ]
    },
    {
     "name": "stdout",
     "output_type": "stream",
     "text": [
      "Em thật sự ngu ngốc, đi khách sạn cũng ko xog\n"
     ]
    }
   ],
   "source": [
    "state = input('Bạn có ngừ iu chưa: ')\n",
    "\n",
    "if state == 'có':\n",
    "    print('1. Nắm tay')\n",
    "    print('2. Hun')\n",
    "    print('3. Đi ăn')\n",
    "    \n",
    "    hotel = input('Đi khách sạn hôn: ')\n",
    "    \n",
    "    if hotel == 'có':\n",
    "        print('4. Go to hotel')\n",
    "    elif hotel == 'rụng dâu':\n",
    "        print('Hôm nay ko dc anh ơi, có biến rồi')\n",
    "    elif hotel == 'em chưa 18':\n",
    "        print('Đi tù nhak con')\n",
    "    else:\n",
    "        print('Em thật sự ngu ngốc, đi khách sạn cũng ko xog')"
   ]
  },
  {
   "cell_type": "code",
   "execution_count": 16,
   "metadata": {},
   "outputs": [
    {
     "name": "stdin",
     "output_type": "stream",
     "text": [
      "Enter your name:  Hồng\n"
     ]
    },
    {
     "name": "stdout",
     "output_type": "stream",
     "text": [
      "Mấy đứa tên Hồng hay ế\n",
      "Hồng ngáo\n",
      "Có chạy chổ này\n"
     ]
    }
   ],
   "source": [
    "name = input('Enter your name: ')\n",
    "\n",
    "if name.lower() == 'hồng':\n",
    "    print('Mấy đứa tên Hồng hay ế')\n",
    "    \n",
    "if name.upper() == 'HỒNG':\n",
    "    print('Hồng ngáo')\n",
    "elif name == 'Hồng':\n",
    "    print('Hồng điên')\n",
    "    \n",
    "print('Có chạy chổ này')"
   ]
  },
  {
   "cell_type": "markdown",
   "metadata": {},
   "source": [
    "Viết 1 chương trình, cho 2 người chơi, nhập vào 'kéo', 'búa', 'bao', xuất ra 'Người A thắng' nếu người A thắng và ngược lại"
   ]
  },
  {
   "cell_type": "code",
   "execution_count": 17,
   "metadata": {},
   "outputs": [
    {
     "name": "stdin",
     "output_type": "stream",
     "text": [
      "nhập vào a:  kéo\n",
      "nhập vào b:  bao\n"
     ]
    },
    {
     "name": "stdout",
     "output_type": "stream",
     "text": [
      "Người A thắng\n"
     ]
    }
   ],
   "source": [
    "a = input('nhập vào a: ')\n",
    "b = input('nhập vào b: ')\n",
    "\n",
    "if a == 'kéo' and b == 'búa':\n",
    "    print('Người B thắng')\n",
    "    \n",
    "if a == 'kéo' and b == 'kéo':\n",
    "    print('Hòa')\n",
    "    \n",
    "if a == 'kéo' and b == 'bao':\n",
    "    print('Người A thắng')\n",
    "    \n",
    "if a == 'búa' and b == 'kéo':\n",
    "    print('Người A thắng')\n",
    "    \n",
    "if a == 'búa' and b == 'búa':\n",
    "    print('Hòa')\n",
    "    \n",
    "if a == 'búa' and b == 'bao':\n",
    "    print('Người B thắng')\n",
    "    \n",
    "if a == 'bao' and b == 'kéo':\n",
    "    print('Người B thắng')\n",
    "    \n",
    "if a == 'bao' and b == 'bao':\n",
    "    print('Hòa')\n",
    "    \n",
    "if a == 'bao' and b == 'búa':\n",
    "    print('Người A thắng')\n"
   ]
  },
  {
   "cell_type": "code",
   "execution_count": 21,
   "metadata": {},
   "outputs": [
    {
     "name": "stdin",
     "output_type": "stream",
     "text": [
      "Nhập người A:  kéo\n",
      "Nhập người B:  búa\n"
     ]
    },
    {
     "name": "stdout",
     "output_type": "stream",
     "text": [
      "B thắng\n"
     ]
    }
   ],
   "source": [
    "a = input('Nhập người A: ')\n",
    "b = input('Nhập người B: ')\n",
    "\n",
    "# trường hợp A: kéo\n",
    "if a == b:\n",
    "    print('Hòa')\n",
    "elif a == 'kéo':\n",
    "    if b == 'búa': print('B thắng')\n",
    "    elif b == 'bao': print('A thắng')\n",
    "elif a == 'búa':\n",
    "    if b == 'kéo': print('A thắng')\n",
    "    elif b == 'bao': print('B thắng')\n",
    "elif a == 'bao':\n",
    "    if b == 'kéo': print('B thắng')\n",
    "    elif b == 'búa': print('A thắng')"
   ]
  },
  {
   "cell_type": "code",
   "execution_count": 26,
   "metadata": {},
   "outputs": [
    {
     "name": "stdin",
     "output_type": "stream",
     "text": [
      "Nhập tên:  dũng\n"
     ]
    },
    {
     "name": "stdout",
     "output_type": "stream",
     "text": [
      "dũng thì ko biết\n"
     ]
    }
   ],
   "source": [
    "name = input('Nhập tên: ')\n",
    "\n",
    "state = 'đẹp trai' if name.lower() == 'cường' else 'xấu xí' if name.lower() == 'hồng' else 'ko biết'\n",
    "\n",
    "print('{0} thì {1}'.format(name, state))"
   ]
  },
  {
   "cell_type": "code",
   "execution_count": 28,
   "metadata": {},
   "outputs": [
    {
     "name": "stdin",
     "output_type": "stream",
     "text": [
      "Nhập vào cân nặng:  100\n"
     ]
    },
    {
     "name": "stdout",
     "output_type": "stream",
     "text": [
      "béo phí\n"
     ]
    }
   ],
   "source": [
    "num = float(input('Nhập vào cân nặng: '))\n",
    "\n",
    "print('béo phí' if num > 80.0 else 'bình thường')"
   ]
  },
  {
   "cell_type": "code",
   "execution_count": null,
   "metadata": {},
   "outputs": [],
   "source": []
  }
 ],
 "metadata": {
  "kernelspec": {
   "display_name": "xpython",
   "language": "python",
   "name": "xpython"
  },
  "language_info": {
   "file_extension": ".py",
   "mimetype": "text/x-python",
   "name": "python",
   "version": "3.7.6"
  }
 },
 "nbformat": 4,
 "nbformat_minor": 4
}
