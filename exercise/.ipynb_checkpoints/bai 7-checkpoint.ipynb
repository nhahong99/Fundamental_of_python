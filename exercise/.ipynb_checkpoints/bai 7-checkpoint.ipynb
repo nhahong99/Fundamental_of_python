{
 "cells": [
  {
   "cell_type": "markdown",
   "metadata": {},
   "source": [
    "![](https://scontent.fsgn5-5.fna.fbcdn.net/v/t1.15752-9/104419980_286529389200817_4821145993519165047_n.png?_nc_cat=108&_nc_sid=b96e70&_nc_oc=AQm62wCcFlxwUuls_Koi5uGDd_n0XoNViPJn4KCz0Y2YaDsSHcpGcBUi9IyE8PFrA6o&_nc_ht=scontent.fsgn5-5.fna&oh=c9b7e3b534184aa40fb9e94f176bfdb2&oe=5F10B97B)"
   ]
  },
  {
   "cell_type": "code",
   "execution_count": 2,
   "metadata": {},
   "outputs": [
    {
     "name": "stdin",
     "output_type": "stream",
     "text": [
      "Nhập a, b:  0 4\n"
     ]
    },
    {
     "name": "stdout",
     "output_type": "stream",
     "text": [
      "Phương trình vô nghiệm\n"
     ]
    }
   ],
   "source": [
    "def giaiPhuongTrinhBac1(a, b):\n",
    "    if a == 0:\n",
    "        print('Phương trình vô nghiệm')\n",
    "    else:\n",
    "        x = -b/a\n",
    "        print('x = {0}'.format(x))\n",
    "        \n",
    "a, b = map(float,input('Nhập a, b: ').strip().split(' '))\n",
    "giaiPhuongTrinhBac1(a, b)"
   ]
  },
  {
   "cell_type": "code",
   "execution_count": null,
   "metadata": {},
   "outputs": [],
   "source": []
  }
 ],
 "metadata": {
  "kernelspec": {
   "display_name": "xpython",
   "language": "python",
   "name": "xpython"
  },
  "language_info": {
   "file_extension": ".py",
   "mimetype": "text/x-python",
   "name": "python",
   "version": "3.7.6"
  }
 },
 "nbformat": 4,
 "nbformat_minor": 4
}
