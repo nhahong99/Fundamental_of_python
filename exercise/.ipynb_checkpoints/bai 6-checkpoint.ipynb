{
 "cells": [
  {
   "cell_type": "markdown",
   "metadata": {},
   "source": [
    "![](https://scontent.fsgn5-4.fna.fbcdn.net/v/t1.15752-9/104371228_347419062910674_3288276360657265329_n.png?_nc_cat=102&_nc_sid=b96e70&_nc_oc=AQkpr0ZDMg4SG2wdKjWVc6gBUYZxgIM9y3DZYdTh13GSfQ-dGJJxQj387J5bMKOv9QY&_nc_ht=scontent.fsgn5-4.fna&oh=a03ae2de698d1b6eec45325a2f56a4d0&oe=5F121BE3)"
   ]
  },
  {
   "cell_type": "code",
   "execution_count": 1,
   "metadata": {},
   "outputs": [],
   "source": [
    "def sapXep(l):\n",
    "    a = max(l)\n",
    "    b = min(l)\n",
    "    c = sum(l) - a - b\n",
    "    \n",
    "    print('Tăng dần: {0} {1} {2}'.format(b,c,a))\n",
    "    \n",
    "    "
   ]
  },
  {
   "cell_type": "code",
   "execution_count": 2,
   "metadata": {},
   "outputs": [
    {
     "name": "stdin",
     "output_type": "stream",
     "text": [
      "Nhập a, b, c:  5 3 4\n"
     ]
    },
    {
     "name": "stdout",
     "output_type": "stream",
     "text": [
      "Tăng dần: 3.0 4.0 5.0\n"
     ]
    }
   ],
   "source": [
    "l = list(map(float, input('Nhập a, b, c: ').strip().split(\" \")))\n",
    "sapXep(l)"
   ]
  },
  {
   "cell_type": "code",
   "execution_count": null,
   "metadata": {},
   "outputs": [],
   "source": []
  },
  {
   "cell_type": "code",
   "execution_count": null,
   "metadata": {},
   "outputs": [],
   "source": []
  }
 ],
 "metadata": {
  "kernelspec": {
   "display_name": "xpython",
   "language": "python",
   "name": "xpython"
  },
  "language_info": {
   "file_extension": ".py",
   "mimetype": "text/x-python",
   "name": "python",
   "version": "3.7.6"
  }
 },
 "nbformat": 4,
 "nbformat_minor": 4
}
