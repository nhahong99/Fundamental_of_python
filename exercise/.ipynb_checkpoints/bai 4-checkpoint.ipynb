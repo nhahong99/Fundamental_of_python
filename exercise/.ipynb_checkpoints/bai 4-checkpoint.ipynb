{
 "cells": [
  {
   "cell_type": "markdown",
   "metadata": {},
   "source": [
    "![](https://scontent.fsgn2-5.fna.fbcdn.net/v/t1.15752-9/104170934_3011000059026097_3990462668023731796_n.jpg?_nc_cat=104&_nc_sid=b96e70&_nc_ohc=amvr9mCF3tUAX_BW8mE&_nc_ht=scontent.fsgn2-5.fna&oh=935fe85fa9fa79a03febe9a14368743a&oe=5F0A3B5D)"
   ]
  },
  {
   "cell_type": "markdown",
   "metadata": {},
   "source": [
    "# Mới nhú đầu dú"
   ]
  },
  {
   "cell_type": "code",
   "execution_count": 2,
   "metadata": {},
   "outputs": [
    {
     "name": "stdin",
     "output_type": "stream",
     "text": [
      "Nhập 3 cạnh tam giác:  3 4 5\n"
     ]
    },
    {
     "name": "stdout",
     "output_type": "stream",
     "text": [
      "Là tam giác hợp lệ\n",
      "Diện tích S: 6.0\n"
     ]
    }
   ],
   "source": [
    "import math\n",
    "\n",
    "a, b, c = map(float, input('Nhập 3 cạnh tam giác: ').strip().split(' '))\n",
    "\n",
    "if a + b > c and a + c > b and b + c > a:\n",
    "    print('Là tam giác hợp lệ')\n",
    "    \n",
    "    p = (a + b + c)/2\n",
    "    s = math.sqrt(p*(p - a)*(p - b)*(p - c))\n",
    "    \n",
    "    print(f'Diện tích S: {s}')\n",
    "    \n",
    "else: print('Là tam giác không hợp lệ')\n",
    "    "
   ]
  },
  {
   "cell_type": "markdown",
   "metadata": {},
   "source": [
    "# Đầu dú nhú rồi"
   ]
  },
  {
   "cell_type": "code",
   "execution_count": 15,
   "metadata": {},
   "outputs": [
    {
     "name": "stdin",
     "output_type": "stream",
     "text": [
      "Nhập 3 cạnh tam giác:  5 3 2\n"
     ]
    },
    {
     "name": "stdout",
     "output_type": "stream",
     "text": [
      "Không phải là tam giác\n"
     ]
    }
   ],
   "source": [
    "import math\n",
    "\n",
    "l = list(map(float, input('Nhập 3 cạnh tam giác: ').strip().split(' ')))\n",
    "\n",
    "# a là cạnh huyền, b là cạnh ngắn nhất, c còn lại\n",
    "a = max(l)\n",
    "b = min(l)\n",
    "c = sum(l) - a - b\n",
    "\n",
    "if a + b > c and a + c > b and b + c > a:\n",
    "    if a == b == c: print('Là tam giác đều')\n",
    "    elif b**2 + c**2 == a**2:\n",
    "        if b == c: print('Là tam giác vuông cân')\n",
    "        else: print('Là tam giác vuông')\n",
    "    elif b == c or a == b or a == c: print('Là tam giác cân')\n",
    "    else: print('Là tam giác thường')\n",
    "    \n",
    "    p = (a + b + c)/2\n",
    "    s = math.sqrt(p*(p - a)*(p - b)*(p - c))\n",
    "    \n",
    "    print(f'Diện tích S: {s}')\n",
    "else: print('Không phải là tam giác')    "
   ]
  },
  {
   "cell_type": "code",
   "execution_count": 5,
   "metadata": {},
   "outputs": [
    {
     "data": {
      "text/plain": [
       "False"
      ]
     },
     "execution_count": 5,
     "metadata": {},
     "output_type": "execute_result"
    }
   ],
   "source": []
  },
  {
   "cell_type": "code",
   "execution_count": null,
   "metadata": {},
   "outputs": [],
   "source": []
  }
 ],
 "metadata": {
  "kernelspec": {
   "display_name": "xpython",
   "language": "python",
   "name": "xpython"
  },
  "language_info": {
   "file_extension": ".py",
   "mimetype": "text/x-python",
   "name": "python",
   "version": "3.7.6"
  }
 },
 "nbformat": 4,
 "nbformat_minor": 4
}
