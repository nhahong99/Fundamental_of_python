{
 "cells": [
  {
   "cell_type": "markdown",
   "metadata": {},
   "source": [
    "![](https://scontent.fsgn5-4.fna.fbcdn.net/v/t1.15752-9/104409318_3074072879348850_5081840689969331868_n.png?_nc_cat=104&_nc_sid=b96e70&_nc_oc=AQnTaepNwnMiIvsMQA4s_LKlmsdPgwdVeDkGTymZsi_ASfrq2I70y-W7MHM84NYFbtM&_nc_ht=scontent.fsgn5-4.fna&oh=75ae9d51578801fd2400345dad7da081&oe=5F0F1A1F)"
   ]
  },
  {
   "cell_type": "code",
   "execution_count": null,
   "metadata": {},
   "outputs": [],
   "source": [
    "import math\n",
    "\n",
    "def tinhDienTichTamGiac(xA, yA, xB, yB, xC, yC):\n",
    "    return 0.5*math.fabs(xA*yB - xB*yA + xB*yC - xC*yB + xC*yA - xA*yC)"
   ]
  },
  {
   "cell_type": "code",
   "execution_count": null,
   "metadata": {},
   "outputs": [],
   "source": [
    "def xuatKetQua(a, b, c, d):\n",
    "    if a + b + c > d:\n",
    "        print('Điểm M nằm ngoài')\n",
    "    elif a == 0 or b == 0 or c == 0:\n",
    "        print('Điểm M nằm trên')\n",
    "    else:\n",
    "        print('Điểm M nằm trong')"
   ]
  },
  {
   "cell_type": "code",
   "execution_count": 3,
   "metadata": {},
   "outputs": [
    {
     "name": "stdin",
     "output_type": "stream",
     "text": [
      "Nhập vào A(x, y):  0 0\n",
      "Nhập vào B(x, y):  4 0\n",
      "Nhập vào C(x, y):  0 3\n",
      "Nhập vào M(x, y):  1 1\n"
     ]
    },
    {
     "name": "stdout",
     "output_type": "stream",
     "text": [
      "Điểm M nằm trong\n"
     ]
    }
   ],
   "source": [
    "xA, yA = map(float, input('Nhập vào A(x, y): ').strip().split(' '))\n",
    "xB, yB = map(float, input('Nhập vào B(x, y): ').strip().split(' '))\n",
    "xC, yC = map(float, input('Nhập vào C(x, y): ').strip().split(' '))\n",
    "xM, yM = map(float, input('Nhập vào M(x, y): ').strip().split(' '))\n",
    "\n",
    "abm = tinhDienTichTamGiac(xA, yA, xB, yB, xM, yM)\n",
    "acm = tinhDienTichTamGiac(xA, yA, xC, yC, xM, yM)\n",
    "bcm = tinhDienTichTamGiac(xB, yB, xC, yC, xM, yM)\n",
    "abc = tinhDienTichTamGiac(xA, yA, xB, yB, xC, yC)\n",
    "\n",
    "xuatKetQua(abm, acm, bcm, abc)"
   ]
  },
  {
   "cell_type": "code",
   "execution_count": 10,
   "metadata": {},
   "outputs": [
    {
     "name": "stdout",
     "output_type": "stream",
     "text": [
      "None\n"
     ]
    }
   ],
   "source": []
  },
  {
   "cell_type": "code",
   "execution_count": null,
   "metadata": {},
   "outputs": [],
   "source": []
  }
 ],
 "metadata": {
  "kernelspec": {
   "display_name": "xpython",
   "language": "python",
   "name": "xpython"
  },
  "language_info": {
   "file_extension": ".py",
   "mimetype": "text/x-python",
   "name": "python",
   "version": "3.7.6"
  }
 },
 "nbformat": 4,
 "nbformat_minor": 4
}
