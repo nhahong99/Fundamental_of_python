{
 "cells": [
  {
   "cell_type": "markdown",
   "metadata": {},
   "source": [
    "![](https://scontent.fsgn2-1.fna.fbcdn.net/v/t1.15752-9/103335483_2742939322594447_2891924466207630280_n.jpg?_nc_cat=111&_nc_sid=b96e70&_nc_ohc=HmfFUbrOybIAX93Z9Sm&_nc_ht=scontent.fsgn2-1.fna&oh=e6c9285a81f6804b4a2c9846bb7ac39f&oe=5F073995)"
   ]
  },
  {
   "cell_type": "code",
   "execution_count": 1,
   "metadata": {},
   "outputs": [
    {
     "name": "stdin",
     "output_type": "stream",
     "text": [
      "Nhập vào điểm xA:  3.2\n",
      "Nhập vào điểm yA:  -1.4\n",
      "Nhập vào điểm xB:  -5.7\n",
      "Nhập vào điểm yB:  6.1\n"
     ]
    },
    {
     "name": "stdout",
     "output_type": "stream",
     "text": [
      "Độ dài là: 11.6387\n"
     ]
    }
   ],
   "source": [
    "import math\n",
    "\n",
    "xA = float(input('Nhập vào điểm xA: '))\n",
    "yA = float(input('Nhập vào điểm yA: '))\n",
    "xB = float(input('Nhập vào điểm xB: '))\n",
    "yB = float(input('Nhập vào điểm yB: '))\n",
    " \n",
    "ab = math.sqrt((xB - xA)**2 + (yB - yA)**2)\n",
    "\n",
    "print('Độ dài là: {0}'.format(round(ab, 4)))"
   ]
  },
  {
   "cell_type": "code",
   "execution_count": null,
   "metadata": {},
   "outputs": [],
   "source": []
  }
 ],
 "metadata": {
  "kernelspec": {
   "display_name": "xpython",
   "language": "python",
   "name": "xpython"
  },
  "language_info": {
   "file_extension": ".py",
   "mimetype": "text/x-python",
   "name": "python",
   "version": "3.7.6"
  }
 },
 "nbformat": 4,
 "nbformat_minor": 4
}
