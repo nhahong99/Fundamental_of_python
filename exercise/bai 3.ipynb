{
 "cells": [
  {
   "cell_type": "markdown",
   "metadata": {},
   "source": [
    "![](https://scontent.fsgn2-1.fna.fbcdn.net/v/t1.15752-9/104266014_797194230685251_8635223385090655985_n.jpg?_nc_cat=111&_nc_sid=b96e70&_nc_ohc=rVd-AIwQzRYAX9nC-ds&_nc_ht=scontent.fsgn2-1.fna&oh=e998b98bf9620e4c1163667d467bb8fd&oe=5F08BFD2)"
   ]
  },
  {
   "cell_type": "code",
   "execution_count": 2,
   "metadata": {},
   "outputs": [
    {
     "name": "stdin",
     "output_type": "stream",
     "text": [
      "Nhập vào tọa độ điểm C (cách nhau bằng whitespace):  0.5 4.3\n",
      "Nhập vào bán kính:  7.4\n",
      "Nhập vào tọa độ điểm M:  3.2 6.5\n"
     ]
    },
    {
     "name": "stdout",
     "output_type": "stream",
     "text": [
      "M nằm trong đường tròn\n"
     ]
    }
   ],
   "source": [
    "import math\n",
    "\n",
    "xC, yC = map(float, input('Nhập vào tọa độ điểm C (cách nhau bằng whitespace): ').strip().split(' '))\n",
    "r = float(input('Nhập vào bán kính: '))\n",
    "xM, yM = map(float, input('Nhập vào tọa độ điểm M: ').strip().split(' '))\n",
    "\n",
    "cm = math.sqrt((xC - xM)**2 + (yC - yM)**2)\n",
    "\n",
    "if cm == r:\n",
    "    print('M nằm trên đường tròn')\n",
    "elif cm > r:\n",
    "    print('M nằm ngoài đường tròn')\n",
    "else:\n",
    "    print('M nằm trong đường tròn')"
   ]
  }
 ],
 "metadata": {
  "kernelspec": {
   "display_name": "xpython",
   "language": "python",
   "name": "xpython"
  },
  "language_info": {
   "file_extension": ".py",
   "mimetype": "text/x-python",
   "name": "python",
   "version": "3.7.6"
  }
 },
 "nbformat": 4,
 "nbformat_minor": 4
}
