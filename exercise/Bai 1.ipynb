{
 "cells": [
  {
   "cell_type": "markdown",
   "metadata": {},
   "source": [
    "![](https://scontent.fsgn2-4.fna.fbcdn.net/v/t1.15752-9/104385072_3978130505591075_5764507016043078419_n.jpg?_nc_cat=109&_nc_sid=b96e70&_nc_ohc=r1swNAAxu7EAX-Cp6fi&_nc_ht=scontent.fsgn2-4.fna&oh=542ce7eff6ff405f7b430c815696c3e5&oe=5F07E1E0)"
   ]
  },
  {
   "cell_type": "code",
   "execution_count": 2,
   "metadata": {},
   "outputs": [
    {
     "name": "stdin",
     "output_type": "stream",
     "text": [
      "Nhập vào diện tích S:  256.128\n"
     ]
    },
    {
     "name": "stdout",
     "output_type": "stream",
     "text": [
      "Thể tích V = 385.442302\n"
     ]
    }
   ],
   "source": [
    "import math\n",
    "\n",
    "s = float(input('Nhập vào diện tích S: '))\n",
    "pi = 3.141593\n",
    "r = math.sqrt(s/(4*pi))\n",
    "\n",
    "v = 4/3*pi*math.pow(r,3)\n",
    "\n",
    "print(f'Thể tích V = {round(v, 6)}')"
   ]
  },
  {
   "cell_type": "code",
   "execution_count": null,
   "metadata": {},
   "outputs": [],
   "source": []
  }
 ],
 "metadata": {
  "kernelspec": {
   "display_name": "xpython",
   "language": "python",
   "name": "xpython"
  },
  "language_info": {
   "file_extension": ".py",
   "mimetype": "text/x-python",
   "name": "python",
   "version": "3.7.6"
  }
 },
 "nbformat": 4,
 "nbformat_minor": 4
}
